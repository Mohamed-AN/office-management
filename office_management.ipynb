{
 "cells": [
  {
   "cell_type": "code",
   "execution_count": 1,
   "metadata": {},
   "outputs": [],
   "source": [
    "import re\n",
    "import math\n",
    "\n",
    "regex = re.compile(r'([A-Za-z0-9]+[.-_])*[A-Za-z0-9]+@[A-Za-z0-9-]+(\\.[A-Z|a-z]{2,})+')\n",
    "\n",
    "def isValid(email):\n",
    "    if re.fullmatch(regex, email):\n",
    "      return True\n",
    "    else:\n",
    "      print(\"Invalid email\")\n",
    "      return False"
   ]
  },
  {
   "cell_type": "code",
   "execution_count": 2,
   "metadata": {},
   "outputs": [],
   "source": [
    "class Person:\n",
    "    # class variable\n",
    "    moods = (\"happy\", \"tired\", \"Lazy\")\n",
    "\n",
    "    def __init__(self, name=None, money=None, mood=None, healthRate=None):\n",
    "        self.name = name\n",
    "        self.money = money\n",
    "        self.mood = mood\n",
    "        self._healthRate = healthRate\n",
    "\n",
    "    @property\n",
    "    def healthRate(self):\n",
    "        return self._healthRate\n",
    "\n",
    "    @healthRate.setter\n",
    "    def healthRate(self, value):\n",
    "        if value in {\"100%\", \"75%\", \"50%\"}:\n",
    "            self._healthRate = value\n",
    "\n",
    "    def sleep(self, hours=None):\n",
    "        if hours == 7:\n",
    "            self.mood = Person.moods[0]\n",
    "        elif hours < 7:\n",
    "            self.mood = Person.moods[1]\n",
    "        else:\n",
    "            self.mood = Person.moods[2]\n",
    "\n",
    "    def eat(self, meals=None):\n",
    "        health = {1: \"100%\", 2: \"75%\", 3: \"50%\"}\n",
    "        self.healthRate = health[meals]\n",
    "\n",
    "    def buy(self, items):\n",
    "        self.money -= items*10"
   ]
  },
  {
   "cell_type": "code",
   "execution_count": 3,
   "metadata": {},
   "outputs": [],
   "source": [
    "class Employee(Person):\n",
    "    def __init__(self, name=None, money=None, mood=None, healthRate=None, id=None, car=None, email=None, salary=None, distanceToWork=20):\n",
    "        super().__init__(name, money, mood, healthRate)\n",
    "        self.id = id\n",
    "        self.car = car\n",
    "        self.email = email\n",
    "        self.salary = salary\n",
    "        self.distanceToWork = distanceToWork\n",
    "\n",
    "    @property\n",
    "    def salary(self):\n",
    "        return self._salary\n",
    "\n",
    "    @property\n",
    "    def email(self):\n",
    "        return self._email\n",
    "    \n",
    "    @salary.setter\n",
    "    def salary(self, value):\n",
    "        if value.isnumeric():\n",
    "            if int(value) >= 1000:\n",
    "                self._salary = value\n",
    "            else:\n",
    "                print(\"Enter a valid salary >= 1000.\")\n",
    "        else:\n",
    "            print(\"Enter a valid salary as (integer).\")\n",
    "\n",
    "    @email.setter\n",
    "    def email(self, value):\n",
    "        if isValid(value):\n",
    "            self._email = value\n",
    "        else:\n",
    "            print(\"Please Enter a valid email (xxxx@yyy.zzz)\")\n",
    "        \n",
    "    def work(self, hours):\n",
    "        if hours == 8:\n",
    "            self.mood = Person.moods[0]\n",
    "        elif hours > 8:\n",
    "            self.mood = Person.moods[1]\n",
    "        else:\n",
    "            self.mood = Person.moods[2]\n",
    "\n",
    "    def drive(self, distance):\n",
    "        self.distanceToWork = distance\n",
    "        velocity = distance/(9-7)\n",
    "        print(\"Distance: {} km\".format(self.distanceToWork), \", Velocity : {} km/h.\".format(velocity))\n",
    "        self.car.run(velocity, distance)\n",
    "\n",
    "    def refuel(self, gasAmount=100):\n",
    "        self.car.fuelRate += gasAmount\n",
    "\n",
    "    def toJSON(self):\n",
    "        return json.dumps(self, default=lambda o: o.__dict__, sort_keys=True, indent=4)\n",
    "\n",
    "    def send_mail(self, to=None, subject=None, msg=None, reciever_name=None):\n",
    "        pass\n",
    "\n",
    "    def __str__(self):\n",
    "        s = \"#####################\\n\"\n",
    "        i = \"Emp ID: {}\\n\".format(self.id)\n",
    "        n = \"Emp Name: {}\\n\".format(self.name)\n",
    "        c = \"Emp Car: {}\\n\".format(self.car.name)\n",
    "        ma = \"Emp Email: {}\\n\".format(self.email)\n",
    "        sa = \"Emp Salary: {}\\n\".format(self.salary)\n",
    "        mo = \"Emp Account: {}\\n\".format(self.money)\n",
    "        mood = \"Emp Mood: {}\\n\".format(self.mood)\n",
    "        hr = \"Emp HealthRate: {}\\n\".format(self.healthRate)\n",
    "        e = \"#####################\"\n",
    "        #self.distanceToWork = distanceToWork\n",
    "        return s + i + n + c + ma + sa + mo + mood + hr + e\n"
   ]
  },
  {
   "cell_type": "code",
   "execution_count": 4,
   "metadata": {},
   "outputs": [],
   "source": [
    "class Office:\n",
    "    employessNum = 0\n",
    "\n",
    "    @staticmethod\n",
    "    def calculate_lateness(moveHour, distance, velocity, targetHour=9):\n",
    "        time = targetHour - moveHour\n",
    "        calc_time = distance/velocity\n",
    "        if calc_time <= time:\n",
    "            #print(\"False\")\n",
    "            return False\n",
    "        else:\n",
    "            #print(\"True\")\n",
    "            return True\n",
    "\n",
    "    def __init__(self, name=None):\n",
    "        self.name = name\n",
    "        self.employees = []\n",
    "\n",
    "    def get_all_employees(self):\n",
    "        return self.employees\n",
    "\n",
    "    def get_employee(self, id):\n",
    "        for emp in self.employees:\n",
    "            if emp.id == id:\n",
    "                return emp\n",
    "            else:\n",
    "                return \"Not Found\"\n",
    "\n",
    "    def hire(self, employee):\n",
    "        for e in self.employees:\n",
    "            if e.id == employee.id:\n",
    "                print(\"Employee is already exist\")\n",
    "                return False\n",
    "        self.employees.append(employee)\n",
    "        Office.employessNum += 1\n",
    "\n",
    "    def fire(self, id):\n",
    "        temp = self.get_employee(id)\n",
    "        if temp:\n",
    "            self.employees.remove(temp)\n",
    "            Office.employessNum -= 1\n",
    "\n",
    "    def check_lateness(self, empId, movHour):\n",
    "        curEmp = self.get_employee(empId)\n",
    "        flag = Office.calculate_lateness(moveHour=movHour, distance=curEmp.distanceToWork, velocity=curEmp.car.velocity)\n",
    "        if flag:\n",
    "            curEmp.salary = str(int(curEmp.salary) - 10)\n",
    "        else:\n",
    "            curEmp.salary = str(int(curEmp.salary) + 10)\n",
    "            \n",
    "    def deduct(self, empId, deduction):\n",
    "        temp = self.get_employee(empId)\n",
    "        temp.salary = str(int(temp.salary) - deduction)\n",
    "\n",
    "    def reward(self, empId, reward):\n",
    "        temp = self.get_employee(empId)\n",
    "        temp.salary = str(int(temp.salary) + reward)"
   ]
  },
  {
   "cell_type": "code",
   "execution_count": 5,
   "metadata": {},
   "outputs": [],
   "source": [
    "class Car:\n",
    "    def __init__(self, name=None, fuelRate=None, velocity=None):\n",
    "        self.name = name\n",
    "        self.fuelRate = fuelRate\n",
    "        self.velocity = velocity\n",
    "\n",
    "    @property\n",
    "    def fuelRate(self):\n",
    "        return self._fuelRate\n",
    "\n",
    "    @property\n",
    "    def velocity(self):\n",
    "        return self._velocity\n",
    "\n",
    "    @fuelRate.setter\n",
    "    def fuelRate(self, value):\n",
    "        if value > -1 and value < 101:\n",
    "            self._fuelRate = value\n",
    "        else:\n",
    "            print(\"Please Enter a valid rate (0 ~ 100).\")\n",
    "\n",
    "    @velocity.setter\n",
    "    def velocity(self, value):\n",
    "        if value > -1 and value < 201:\n",
    "            self._velocity = value\n",
    "        else:\n",
    "            print(\"The Valid speed limit in (0 ~ 200)\")\n",
    "\n",
    "    def run(self, vel, dis):\n",
    "        # -10% every 10km distance ---> -0.01/km, 1e-05/m\n",
    "        # from km -> m\n",
    "        dis_m = dis * 1000\n",
    "        rate = 1e-5 * self.fuelRate\n",
    "        flag = True\n",
    "        self.velocity = vel\n",
    "        while flag:\n",
    "            if self.fuelRate <= 0 or dis_m == 0:\n",
    "                flag = False\n",
    "            else:\n",
    "                self.fuelRate -= rate\n",
    "                dis_m -= 1\n",
    "        self.stop(dis_m)\n",
    "\n",
    "    def stop(self, remainDist):\n",
    "        self.velocity = 0\n",
    "        print(\"Remaining Fuel: {}%\".format(math.ceil(self.fuelRate)))\n",
    "        if remainDist == 0:\n",
    "            print(\"Arrived to the destination\")\n",
    "        else:\n",
    "            print(\"The remaining distance {} km.\".format(remainDist/1000))"
   ]
  },
  {
   "cell_type": "code",
   "execution_count": 6,
   "metadata": {},
   "outputs": [
    {
     "name": "stdout",
     "output_type": "stream",
     "text": [
      "#####################\n",
      "Emp ID: 1\n",
      "Emp Name: Ahmed\n",
      "Emp Car: fiat128\n",
      "Emp Email: ssss@gmail.com\n",
      "Emp Salary: 1500\n",
      "Emp Account: 10000\n",
      "Emp Mood: None\n",
      "Emp HealthRate: None\n",
      "#####################\n"
     ]
    }
   ],
   "source": [
    "car1 = Car(name=\"fiat128\", fuelRate=100, velocity=200)\n",
    "emp1 = Employee(salary=\"1500\", name=\"Ahmed\", money=10_000, id=1, email=\"ssss@gmail.com\", car=car1)\n",
    "print(emp1)"
   ]
  },
  {
   "cell_type": "code",
   "execution_count": 7,
   "metadata": {},
   "outputs": [
    {
     "name": "stdout",
     "output_type": "stream",
     "text": [
      "#####################\n",
      "Emp ID: 1\n",
      "Emp Name: Ahmed\n",
      "Emp Car: fiat128\n",
      "Emp Email: ssss@gmail.com\n",
      "Emp Salary: 1500\n",
      "Emp Account: 10000\n",
      "Emp Mood: tired\n",
      "Emp HealthRate: None\n",
      "#####################\n"
     ]
    }
   ],
   "source": [
    "emp1.sleep(6)\n",
    "print(emp1)"
   ]
  },
  {
   "cell_type": "code",
   "execution_count": 8,
   "metadata": {},
   "outputs": [
    {
     "name": "stdout",
     "output_type": "stream",
     "text": [
      "#####################\n",
      "Emp ID: 1\n",
      "Emp Name: Ahmed\n",
      "Emp Car: fiat128\n",
      "Emp Email: ssss@gmail.com\n",
      "Emp Salary: 1500\n",
      "Emp Account: 10000\n",
      "Emp Mood: happy\n",
      "Emp HealthRate: None\n",
      "#####################\n"
     ]
    }
   ],
   "source": [
    "emp1.work(8)\n",
    "print(emp1)"
   ]
  },
  {
   "cell_type": "code",
   "execution_count": 9,
   "metadata": {},
   "outputs": [
    {
     "name": "stdout",
     "output_type": "stream",
     "text": [
      "#####################\n",
      "Emp ID: 1\n",
      "Emp Name: Ahmed\n",
      "Emp Car: fiat128\n",
      "Emp Email: ssss@gmail.com\n",
      "Emp Salary: 1500\n",
      "Emp Account: 10000\n",
      "Emp Mood: happy\n",
      "Emp HealthRate: 75%\n",
      "#####################\n"
     ]
    }
   ],
   "source": [
    "emp1.eat(2)\n",
    "print(emp1)"
   ]
  },
  {
   "cell_type": "code",
   "execution_count": 10,
   "metadata": {},
   "outputs": [
    {
     "name": "stdout",
     "output_type": "stream",
     "text": [
      "Distance: 110 km , Velocity : 55.0 km/h.\n",
      "Remaining Fuel: 0%\n",
      "The remaining distance 10.0 km.\n"
     ]
    }
   ],
   "source": [
    "emp1.drive(110)"
   ]
  },
  {
   "cell_type": "code",
   "execution_count": 11,
   "metadata": {},
   "outputs": [
    {
     "name": "stdout",
     "output_type": "stream",
     "text": [
      "Distance: 50 km , Velocity : 25.0 km/h.\n",
      "Remaining Fuel: 50%\n",
      "Arrived to the destination\n"
     ]
    }
   ],
   "source": [
    "emp1.car.fuelRate = 100\n",
    "emp1.drive(50)"
   ]
  },
  {
   "cell_type": "code",
   "execution_count": 12,
   "metadata": {},
   "outputs": [],
   "source": [
    "car1 = Car(name=\"fiat128\", fuelRate=100, velocity=200)\n",
    "emp1 = Employee(salary=\"1500\", name=\"Ahmed\", money=10_000, id=1, email=\"ssss@gmail.com\", car=car1)"
   ]
  },
  {
   "cell_type": "code",
   "execution_count": 13,
   "metadata": {},
   "outputs": [],
   "source": [
    "iti_office = Office(name=\"iti\")"
   ]
  },
  {
   "cell_type": "code",
   "execution_count": 14,
   "metadata": {},
   "outputs": [
    {
     "name": "stdout",
     "output_type": "stream",
     "text": [
      "1\n"
     ]
    }
   ],
   "source": [
    "iti_office.hire(emp1)\n",
    "print(Office.employessNum)"
   ]
  },
  {
   "cell_type": "code",
   "execution_count": 15,
   "metadata": {},
   "outputs": [
    {
     "name": "stdout",
     "output_type": "stream",
     "text": [
      "Employee is already exist\n",
      "1\n"
     ]
    }
   ],
   "source": [
    "iti_office.hire(emp1)\n",
    "print(Office.employessNum)"
   ]
  },
  {
   "cell_type": "code",
   "execution_count": 16,
   "metadata": {},
   "outputs": [
    {
     "name": "stdout",
     "output_type": "stream",
     "text": [
      "#####################\n",
      "Emp ID: 1\n",
      "Emp Name: Ahmed\n",
      "Emp Car: fiat128\n",
      "Emp Email: ssss@gmail.com\n",
      "Emp Salary: 1490\n",
      "Emp Account: 10000\n",
      "Emp Mood: None\n",
      "Emp HealthRate: None\n",
      "#####################\n"
     ]
    }
   ],
   "source": [
    "emp1.car.fuelRate = 100\n",
    "emp1.car.velocity = 50\n",
    "emp1.distanceToWork = 30\n",
    "iti_office.check_lateness(1, 9)\n",
    "print(iti_office.get_employee(1))"
   ]
  },
  {
   "cell_type": "code",
   "execution_count": 17,
   "metadata": {},
   "outputs": [
    {
     "name": "stdout",
     "output_type": "stream",
     "text": [
      "#####################\n",
      "Emp ID: 1\n",
      "Emp Name: Ahmed\n",
      "Emp Car: fiat128\n",
      "Emp Email: ssss@gmail.com\n",
      "Emp Salary: 1450\n",
      "Emp Account: 10000\n",
      "Emp Mood: None\n",
      "Emp HealthRate: None\n",
      "#####################\n"
     ]
    }
   ],
   "source": [
    "iti_office.deduct(empId=1, deduction=40)\n",
    "print(iti_office.get_employee(1))"
   ]
  },
  {
   "cell_type": "code",
   "execution_count": 18,
   "metadata": {},
   "outputs": [
    {
     "name": "stdout",
     "output_type": "stream",
     "text": [
      "#####################\n",
      "Emp ID: 1\n",
      "Emp Name: Ahmed\n",
      "Emp Car: fiat128\n",
      "Emp Email: ssss@gmail.com\n",
      "Emp Salary: 1500\n",
      "Emp Account: 10000\n",
      "Emp Mood: None\n",
      "Emp HealthRate: None\n",
      "#####################\n"
     ]
    }
   ],
   "source": [
    "iti_office.reward(empId=1, reward=50)\n",
    "print(iti_office.get_employee(1))"
   ]
  },
  {
   "cell_type": "code",
   "execution_count": 19,
   "metadata": {},
   "outputs": [
    {
     "name": "stdout",
     "output_type": "stream",
     "text": [
      "0\n"
     ]
    }
   ],
   "source": [
    "iti_office.fire(1)\n",
    "print(Office.employessNum)"
   ]
  },
  {
   "cell_type": "code",
   "execution_count": 20,
   "metadata": {},
   "outputs": [],
   "source": [
    "def to_json(list_offices):\n",
    "    final_result = {}\n",
    "    for o in list_offices:\n",
    "        list_emps = o.get_all_employees()\n",
    "        emp_list_obj = []\n",
    "        for e in list_emps:\n",
    "            temp_emp = e.__str__().split(\"\\n\")[1:-1]\n",
    "            emp_dict_obj = {}\n",
    "            for t in temp_emp:\n",
    "                tt = t.split(\":\")\n",
    "                emp_dict_obj[tt[0]] = tt[1]\n",
    "            emp_list_obj.append(emp_dict_obj)\n",
    "        final_result[o.name] = emp_list_obj\n",
    "    return final_result"
   ]
  },
  {
   "cell_type": "code",
   "execution_count": 21,
   "metadata": {},
   "outputs": [],
   "source": [
    "car1 = Car(name=\"fiat128\", fuelRate=100, velocity=200)\n",
    "emp1 = Employee(salary=\"1500\", name=\"Ahmed\", money=10_000, id=1, email=\"ssss@gmail.com\", car=car1)\n",
    "\n",
    "car2 = Car(name=\"porsche\", fuelRate=100, velocity=200)\n",
    "emp2 = Employee(salary=\"20000\", name=\"Nasser\", money=10_000, id=2, email=\"mnasserce@gmail.com\", car=car2)\n",
    "\n",
    "car3 = Car(name=\"audi\", fuelRate=100, velocity=200)\n",
    "emp3 = Employee(salary=\"20000\", name=\"Mostafa\", money=10_000, id=3, email=\"malaa@gmail.com\", car=car3)\n",
    "\n",
    "iti = Office(\"iti\")\n",
    "iti.hire(emp1)\n",
    "iti.hire(emp2)\n",
    "iti.hire(emp3)"
   ]
  },
  {
   "cell_type": "code",
   "execution_count": 22,
   "metadata": {},
   "outputs": [],
   "source": [
    "car1 = Car(name=\"fiat128\", fuelRate=100, velocity=200)\n",
    "emp1 = Employee(salary=\"1500\", name=\"Ahmed\", money=10_000, id=1, email=\"ssss@gmail.com\", car=car1)\n",
    "\n",
    "car2 = Car(name=\"porsche\", fuelRate=100, velocity=200)\n",
    "emp2 = Employee(salary=\"20000\", name=\"Nasser\", money=10_000, id=2, email=\"mnasserce@gmail.com\", car=car2)\n",
    "\n",
    "car3 = Car(name=\"audi\", fuelRate=100, velocity=200)\n",
    "emp3 = Employee(salary=\"20000\", name=\"Mostafa\", money=10_000, id=3, email=\"malaa@gmail.com\", car=car3)\n",
    "\n",
    "iti_2 = Office(\"iti_2\")\n",
    "iti_2.hire(emp1)\n",
    "iti_2.hire(emp2)\n",
    "iti_2.hire(emp3)"
   ]
  },
  {
   "cell_type": "code",
   "execution_count": 23,
   "metadata": {},
   "outputs": [],
   "source": [
    "json_dict = to_json([iti, iti_2])"
   ]
  },
  {
   "cell_type": "code",
   "execution_count": 24,
   "metadata": {},
   "outputs": [],
   "source": [
    "import json\n",
    "\n",
    "with open(\"data.json\", \"w\") as file:\n",
    "    json.dump(json_dict, file)"
   ]
  },
  {
   "cell_type": "code",
   "execution_count": 25,
   "metadata": {},
   "outputs": [
    {
     "data": {
      "text/plain": [
       "{'iti': [{'Emp ID': ' 1',\n",
       "   'Emp Name': ' Ahmed',\n",
       "   'Emp Car': ' fiat128',\n",
       "   'Emp Email': ' ssss@gmail.com',\n",
       "   'Emp Salary': ' 1500',\n",
       "   'Emp Account': ' 10000',\n",
       "   'Emp Mood': ' None',\n",
       "   'Emp HealthRate': ' None'},\n",
       "  {'Emp ID': ' 2',\n",
       "   'Emp Name': ' Nasser',\n",
       "   'Emp Car': ' porsche',\n",
       "   'Emp Email': ' mnasserce@gmail.com',\n",
       "   'Emp Salary': ' 20000',\n",
       "   'Emp Account': ' 10000',\n",
       "   'Emp Mood': ' None',\n",
       "   'Emp HealthRate': ' None'},\n",
       "  {'Emp ID': ' 3',\n",
       "   'Emp Name': ' Mostafa',\n",
       "   'Emp Car': ' audi',\n",
       "   'Emp Email': ' malaa@gmail.com',\n",
       "   'Emp Salary': ' 20000',\n",
       "   'Emp Account': ' 10000',\n",
       "   'Emp Mood': ' None',\n",
       "   'Emp HealthRate': ' None'}],\n",
       " 'iti_2': [{'Emp ID': ' 1',\n",
       "   'Emp Name': ' Ahmed',\n",
       "   'Emp Car': ' fiat128',\n",
       "   'Emp Email': ' ssss@gmail.com',\n",
       "   'Emp Salary': ' 1500',\n",
       "   'Emp Account': ' 10000',\n",
       "   'Emp Mood': ' None',\n",
       "   'Emp HealthRate': ' None'},\n",
       "  {'Emp ID': ' 2',\n",
       "   'Emp Name': ' Nasser',\n",
       "   'Emp Car': ' porsche',\n",
       "   'Emp Email': ' mnasserce@gmail.com',\n",
       "   'Emp Salary': ' 20000',\n",
       "   'Emp Account': ' 10000',\n",
       "   'Emp Mood': ' None',\n",
       "   'Emp HealthRate': ' None'},\n",
       "  {'Emp ID': ' 3',\n",
       "   'Emp Name': ' Mostafa',\n",
       "   'Emp Car': ' audi',\n",
       "   'Emp Email': ' malaa@gmail.com',\n",
       "   'Emp Salary': ' 20000',\n",
       "   'Emp Account': ' 10000',\n",
       "   'Emp Mood': ' None',\n",
       "   'Emp HealthRate': ' None'}]}"
      ]
     },
     "execution_count": 25,
     "metadata": {},
     "output_type": "execute_result"
    }
   ],
   "source": [
    "to_json([iti, iti_2])"
   ]
  },
  {
   "cell_type": "code",
   "execution_count": 26,
   "metadata": {},
   "outputs": [
    {
     "name": "stdout",
     "output_type": "stream",
     "text": [
      "{\n",
      "    \"_email\": \"ssss@gmail.com\",\n",
      "    \"_healthRate\": null,\n",
      "    \"_salary\": \"1500\",\n",
      "    \"car\": {\n",
      "        \"_fuelRate\": 100,\n",
      "        \"_velocity\": 200,\n",
      "        \"name\": \"fiat128\"\n",
      "    },\n",
      "    \"distanceToWork\": 20,\n",
      "    \"id\": 1,\n",
      "    \"money\": 10000,\n",
      "    \"mood\": null,\n",
      "    \"name\": \"Ahmed\"\n",
      "}\n",
      "{\n",
      "    \"_email\": \"mnasserce@gmail.com\",\n",
      "    \"_healthRate\": null,\n",
      "    \"_salary\": \"20000\",\n",
      "    \"car\": {\n",
      "        \"_fuelRate\": 100,\n",
      "        \"_velocity\": 200,\n",
      "        \"name\": \"porsche\"\n",
      "    },\n",
      "    \"distanceToWork\": 20,\n",
      "    \"id\": 2,\n",
      "    \"money\": 10000,\n",
      "    \"mood\": null,\n",
      "    \"name\": \"Nasser\"\n",
      "}\n",
      "{\n",
      "    \"_email\": \"malaa@gmail.com\",\n",
      "    \"_healthRate\": null,\n",
      "    \"_salary\": \"20000\",\n",
      "    \"car\": {\n",
      "        \"_fuelRate\": 100,\n",
      "        \"_velocity\": 200,\n",
      "        \"name\": \"audi\"\n",
      "    },\n",
      "    \"distanceToWork\": 20,\n",
      "    \"id\": 3,\n",
      "    \"money\": 10000,\n",
      "    \"mood\": null,\n",
      "    \"name\": \"Mostafa\"\n",
      "}\n"
     ]
    }
   ],
   "source": [
    "import json\n",
    "\n",
    "x = iti.get_all_employees()\n",
    "for e in x:\n",
    "    print(e.toJSON())"
   ]
  },
  {
   "cell_type": "code",
   "execution_count": 27,
   "metadata": {},
   "outputs": [],
   "source": [
    "emp3.sleep(8)"
   ]
  }
 ],
 "metadata": {
  "interpreter": {
   "hash": "b8ea583484764788b653b10eb23a8a3f153156798cb8ebbe69ddb2ae24922b11"
  },
  "kernelspec": {
   "display_name": "Python 3.8.5 ('linalgenv')",
   "language": "python",
   "name": "python3"
  },
  "language_info": {
   "codemirror_mode": {
    "name": "ipython",
    "version": 3
   },
   "file_extension": ".py",
   "mimetype": "text/x-python",
   "name": "python",
   "nbconvert_exporter": "python",
   "pygments_lexer": "ipython3",
   "version": "3.8.5"
  },
  "orig_nbformat": 4
 },
 "nbformat": 4,
 "nbformat_minor": 2
}
